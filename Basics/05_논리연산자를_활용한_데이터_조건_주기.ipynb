{
  "nbformat": 4,
  "nbformat_minor": 0,
  "metadata": {
    "colab": {
      "provenance": [],
      "authorship_tag": "ABX9TyMBlTA8UxMVPhSHwHjmaKSp",
      "include_colab_link": true
    },
    "kernelspec": {
      "name": "python3",
      "display_name": "Python 3"
    },
    "language_info": {
      "name": "python"
    }
  },
  "cells": [
    {
      "cell_type": "markdown",
      "metadata": {
        "id": "view-in-github",
        "colab_type": "text"
      },
      "source": [
        "<a href=\"https://colab.research.google.com/github/SooraChoi/SQL/blob/main/05_%EB%85%BC%EB%A6%AC%EC%97%B0%EC%82%B0%EC%9E%90%EB%A5%BC_%ED%99%9C%EC%9A%A9%ED%95%9C_%EB%8D%B0%EC%9D%B4%ED%84%B0_%EC%A1%B0%EA%B1%B4_%EC%A3%BC%EA%B8%B0.ipynb\" target=\"_parent\"><img src=\"https://colab.research.google.com/assets/colab-badge.svg\" alt=\"Open In Colab\"/></a>"
      ]
    },
    {
      "cell_type": "markdown",
      "source": [
        "#1. 논리연산자 AND, OR\n",
        "###1) AND 연산자\n",
        "    WHERE 조건절1 AND 조건절2;\n",
        "###2) OR 연산자\n",
        "    WHERE 조건절1 OR 조건절2;\n",
        "\n",
        "#2. 논리연산자 IN, NOT IN: (OR 연산자가 여러 개인 경우)\n",
        "###1) IN 연산자\n",
        "    WHERE 비교할열이름 IN (조건1, 조건2, 조건3);\n",
        "- 여러 번 사용하는 OR 연산자를 하나로 묶은 것\n",
        "- IN 연산자 안에 다른 SELECT 문장 사용가능\n",
        "\n",
        "###2) NOT IN 연산자\n",
        "    WHERE 비교할열이름 NOT IN (조건1, 조건2, 조건3);\n",
        "- 조건1, 조건2, 조건3 외의 모든 것들\n",
        "- NOT조건1 AND NOT조건2 ADND NOT조건3\n",
        "\n",
        "\n",
        "\n",
        "---\n",
        "실습03 (1)COALESCE 사용하기 (2)TOT_AMT_1이 최근 1개월 전이라 가장 낮아야 함\n"
      ],
      "metadata": {
        "id": "mnMqevRvSBMt"
      }
    }
  ]
}
