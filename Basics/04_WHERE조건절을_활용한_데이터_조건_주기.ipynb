{
  "nbformat": 4,
  "nbformat_minor": 0,
  "metadata": {
    "colab": {
      "provenance": [],
      "authorship_tag": "ABX9TyNjwOERXTU1FDAnbgG8mGFa",
      "include_colab_link": true
    },
    "kernelspec": {
      "name": "python3",
      "display_name": "Python 3"
    },
    "language_info": {
      "name": "python"
    }
  },
  "cells": [
    {
      "cell_type": "markdown",
      "metadata": {
        "id": "view-in-github",
        "colab_type": "text"
      },
      "source": [
        "<a href=\"https://colab.research.google.com/github/SooraChoi/SQL/blob/main/04_WHERE%EC%A1%B0%EA%B1%B4%EC%A0%88%EC%9D%84_%ED%99%9C%EC%9A%A9%ED%95%9C_%EB%8D%B0%EC%9D%B4%ED%84%B0_%EC%A1%B0%EA%B1%B4_%EC%A3%BC%EA%B8%B0.ipynb\" target=\"_parent\"><img src=\"https://colab.research.google.com/assets/colab-badge.svg\" alt=\"Open In Colab\"/></a>"
      ]
    },
    {
      "cell_type": "markdown",
      "source": [
        "1. 숫자형/문자형 데이터 필터링하기\n",
        "2. 비교연산자, 산술연산자\n",
        "3. 결측치(NULL) 처리 방법\n",
        "\n",
        "\n",
        "---\n",
        "\n",
        "#1. 숫자형/문자형 데이터 필터링하기\n",
        "### 1) 숫자형 데이터 조건 주기\n",
        "    WHERE 비교할 열이름 = 숫자;\n",
        "### 2) 문자/날짜형 데이터 조건 주기\n",
        "    WHRERE 비교할 열이름 = '문자';\n",
        "    WHRERE 비교할 열이름 = '19980304';\n",
        "        * 날짜의 경우 문자형이지만 ~이후 등을 >='19980304' 로 나타낼 수 있음\n",
        "\n",
        "#2. 비교연산자, 산술연산자\n",
        "###1) 비교연산자\n",
        "SELECT (열이름) FROM (테이블명) WHERE (비교할 열이름: 필터링하고 싶은 열) 비교연산자 (비교할 대상);\n",
        "\n",
        "\n",
        "> (1) A와 B가 같지 않다: A<>B, A!=B, A^=B\n",
        "\n",
        "> (2) A와 B 사이에 있다: BETWEEN A AND B\n",
        "\n",
        "> (3) NULL 값(이 아닌)인 열 검색: IS NULL, IS NOT NULL\n",
        "\n",
        "###2) 산술연산자 + - * / : SELECT문, WHERE조건절에서 잘 사용\n",
        "\n",
        "> SELECT문에서 사용:\n",
        "\n",
        "SELECT 열이름1, 열이름2 산술연산자 열이름3 AS new이름 FROM 테이블명;\n",
        "\n",
        "SELECT 열이름1, [열이름2 산술연산자 열이름3 AS new이름] FROM 테이블명;\n",
        "\n",
        "> WEHRE조건절에서 사용:\n",
        "\n",
        "SELECT 열이름 FROM 테이블명 WHERE 열이름1 산술연살자 열이름2 비교연산자 비교할대상;\n",
        "\n",
        "SELECT 열이름 FROM 테이블명 WHERE (열이름1 산술연살자 열이름2) 비교연산자 비교할대상;\n",
        "\n",
        "\n",
        "#NULL 값의 처리\n",
        "> COALESCE (EXPRESSION 1, EXPRESSION 2, ... , EXPRESSION N)\n",
        "\n",
        " -> NULL 이 아닌 첫번째 값을 화면에 출력\n",
        "\n",
        " -> COALESCE (?,0) 을 이용해 NULL 값 0으로 치환하는데 사용\n",
        "> ZEROIFNULL (열이름)\n",
        "\n",
        "> NVL2 (열이름, 표현식1, 표현식2)\n",
        "\n",
        "\n",
        "\n",
        "---\n",
        "\n",
        "* 순서: ORDER BY 가장 마지막\n",
        "* Ticket size라는 개념\n",
        "* NULL 값은 정렬 시 가장 큰 값으로 분류된다.\n"
      ],
      "metadata": {
        "id": "72ohnN192d3F"
      }
    }
  ]
}
