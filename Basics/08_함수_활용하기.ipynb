{
  "nbformat": 4,
  "nbformat_minor": 0,
  "metadata": {
    "colab": {
      "provenance": [],
      "authorship_tag": "ABX9TyNdHZe5Xm3Jz8dDe6GEmcxG",
      "include_colab_link": true
    },
    "kernelspec": {
      "name": "python3",
      "display_name": "Python 3"
    },
    "language_info": {
      "name": "python"
    }
  },
  "cells": [
    {
      "cell_type": "markdown",
      "metadata": {
        "id": "view-in-github",
        "colab_type": "text"
      },
      "source": [
        "<a href=\"https://colab.research.google.com/github/SooraChoi/SQL/blob/main/08_%ED%95%A8%EC%88%98_%ED%99%9C%EC%9A%A9%ED%95%98%EA%B8%B0.ipynb\" target=\"_parent\"><img src=\"https://colab.research.google.com/assets/colab-badge.svg\" alt=\"Open In Colab\"/></a>"
      ]
    },
    {
      "cell_type": "markdown",
      "source": [
        "- 집계함수, CASE WHEN : 집계 함수 및 조건문을 사용하여 테이블 데이터 요약하기\n",
        "- 집계함수: 여러 행을 대상으로 연산을 수행해서 하나의 값으로 나타내는 것\n",
        "---\n",
        "#1. 숫자 데이터 요약하기 [SQL의 집계 함수]\n",
        "###1) COUNT 함수\n",
        "행의 수를 나타냄\n",
        "\n",
        "    COUNT(*) : NULL값을 포함한 모든 행의 수\n",
        "    COUNT(열이름) : NULL값을 제외한 모든 행의 수\n",
        "    COUNT(DISTINCT 열이름) : NULL값, 중복 제외한 모든 행의 수\n",
        "\n",
        "###2) SUM, AVG, MAX, MIN, STDENV, VARIANCE 함수\n",
        "대표성을 갖는 숫자로, 집단에 대해 요약\n",
        "\n",
        "    (주의) 집계 함수를 사용하면 NULL값은 계산에서 무시된다.\n",
        "      -> ex 평균 계산할 때, null값 포함하려면 coalesce 함수로 치환 후 avg 사용\n",
        "              SELECT AVG ( COALESCE(MUSIC_SCORE,0) ) AS MUSIC_AVG\n",
        "              FROM STUD_SCORE;\n",
        "\n",
        "#2. 조건문 이해하기 [조건에 따른 결과값 나타내기]\n",
        "###1) CASE WHEN 문장\n",
        "    SELECT 열이름,\n",
        "           CASE WHEN [조건1] THEN [결과값1]\n",
        "                WHEN [조건2] THEN [결과값2]\n",
        "                ELSE [결과값3]\n",
        "                END\n",
        "                AS 새로운 열이름\n",
        "    FROM 테이블명;\n",
        "\n",
        "    예제03\n",
        "    SELECT ( SUM(CASE WHEN~~END) - SUM(NUMBER) ) AS ADD_BUDGET\n",
        "    FROM STAFF_SAL;\n",
        "              \n",
        "- CASE WHEN 함수에서 EQUAL 조건만 있을 경우, DECODE 함수 사용 가능\n",
        "\n",
        "      DECODE (열이름, 조건1, 결과값1,\n",
        "                      조건2, 결과값2,\n",
        "                      조건3, 결과값3. 기본값) 새로운열이름\n",
        "\n",
        "\n",
        "---\n",
        "    실습02\n",
        "    SELECT COUNT(CUST_ID) AS LEAD_CNT,\n",
        "           SUM(CASE WHEN BALANCE_201311*1.1<=BALANCE_201312 THEN 1) AS OFFER_ACCEPT,\n",
        "           OFFER_ACCEPT%LEAD_CNT*100 AS RES_RATE\n",
        "    FROM CASA_201312;\n",
        "\n",
        "    #오류1 CASE WHEN 에서 'ELSE 0', 'END' 둘 다 누락\n",
        "    #오류2 RESRATE계산식쓸 때, 방금 정한 별칭 사용X. 풀어서 쓰기.\n",
        "    #헷갈포인트\n",
        "      DAY08 실습02: 조건에 만족하는 개수 세기 ★\n",
        "            SELECT SUM ( CASE WHEN COST_02*1.1 <= COST_03 THEN 1 ELSE 0 END)\n",
        "                   AS ACCEPT\n",
        "            FROM TABLE;\n",
        "      DAY09 예제-1 01: 고객등급별, 평균 수익 ★\n",
        "            SELECT SEG, **AVG(ANNL_REV)** AS REV\n",
        "            FROM TABLE\n",
        "            GROUP BY SEG;\n",
        "      DAY09 예제-1 03: (A,B)열 그룹별 개수 세기 ★★\n",
        "            SELECT A, B, **COUNT(*)** AS CNT\n",
        "            FROM TABLE\n",
        "            GROUP BY A,B;\n",
        "\n",
        "    실습03,04"
      ],
      "metadata": {
        "id": "3NqhcmCKJDQ5"
      }
    }
  ]
}
