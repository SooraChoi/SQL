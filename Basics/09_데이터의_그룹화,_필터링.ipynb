{
  "nbformat": 4,
  "nbformat_minor": 0,
  "metadata": {
    "colab": {
      "provenance": [],
      "authorship_tag": "ABX9TyOS0+/vIq5hFedCK80t5o2x",
      "include_colab_link": true
    },
    "kernelspec": {
      "name": "python3",
      "display_name": "Python 3"
    },
    "language_info": {
      "name": "python"
    }
  },
  "cells": [
    {
      "cell_type": "markdown",
      "metadata": {
        "id": "view-in-github",
        "colab_type": "text"
      },
      "source": [
        "<a href=\"https://colab.research.google.com/github/SooraChoi/SQL/blob/main/09_%EB%8D%B0%EC%9D%B4%ED%84%B0%EC%9D%98_%EA%B7%B8%EB%A3%B9%ED%99%94%2C_%ED%95%84%ED%84%B0%EB%A7%81.ipynb\" target=\"_parent\"><img src=\"https://colab.research.google.com/assets/colab-badge.svg\" alt=\"Open In Colab\"/></a>"
      ]
    },
    {
      "cell_type": "markdown",
      "source": [
        "- 그룹화 -> 데이터를 논리적 집합으로 나누어서 데이터의 특성을 요약할 수 있다.\n",
        "---\n",
        "#1. 데이터의 그룹화\n",
        "###1) 열이름으로 그룹화\n",
        "    SELECT **그룹화할 열이름1, 그룹화할 열이름2**, 집계함수\n",
        "    FROM 테이블명\n",
        "    WHERE 조건절\n",
        "    GROUP BY **열이름1, 열이름2**;\n",
        "\n",
        "###2) 열위치로 그룹화\n",
        "    SELECT **그룹화할 열이름1, 그룹화할 열이름2**, 집계함수\n",
        "    FROM 테이블명\n",
        "    WHERE 조건절\n",
        "    GROUP BY **1,2**;\n",
        "\n",
        "- 그룹화된 열에 NULL 값을 포함할 경우, NULL값도 그룹화된다.\n",
        "- 열 그룹화 -> 그 열에 중복되는 거 없게 그룹화돼서 그 열의 값들이 정돈돼서 나타남\n",
        "- 집계함수는 그렇게 그룹화된 그룹끼리? 집계, 연산..?!\n",
        "\n",
        "      함수(__) 에 들어간 열에 대한 function을 그룹별로 해서 각 그룹에 값을 줄텐데,\n",
        "      count만 (*)이 가능하려나 싶음\n",
        "\n",
        "#2. 그룹화한 데이터의 필터링\n",
        "###1) 그룹화 데이터 필터링하기\n",
        "    SELECT 그룹화할 열이름1, 집계함수\n",
        "    FROM 테이블명\n",
        "    WHERE 조건절\n",
        "    GROUP BY 열이름1\n",
        "    HAVING 집계함수조건;\n",
        "\n",
        "    WHERE 조건절: 많은 데이터에서 원하는 행만 보고 싶을 때\n",
        "    HAVING절    : (행이 아닌) 그룹화된 변수에 대해 필터링할 경우\n",
        "    #WHERE 조건절의 조건은 데이터가 그룹화되기 전에 필터링하고,\n",
        "    #HAVING절의 조건은     데이터가 그룹화된 후에 필터링한다.\n",
        "\n",
        "- SELECT절 뒤 (1)열이름 (2)집계함수\n",
        "\n",
        "    -> GROUP BY 뒤에 무조건 (1)열이름 다 나옴.\n",
        "    \n",
        "    -> HAVING 뒤에 (2)집계함수 기준으로 조건 제시됨.\n",
        "\n",
        "---\n",
        "    실습01 ★★★\n",
        "    SELECT CASE WHEN ACCT_CD IN (100,110,120,130,140) THEN 'LIABILITY'\n",
        "                WHEN ACCT_CD IN (300,310,320,330,340) THEN 'ASSET'\n",
        "                END\n",
        "                AS BALANCE_SHEET,\n",
        "           SUM(BALANCE_AMT) AS TOTAL_BALANCE_AMT\n",
        "    FROM TABLE\n",
        "    GROUP BY BALANCE_SHEET;\n",
        "\n",
        "    #꼭 동일한 값을 가진 행만 묶을 수 있는게 아니라, 내가 원하는 조건에 있는 행끼리 묶어서 그룹화할 수 있음 ( IN 과 CASE THEN의 콜라보 )\n",
        "    #SUM에서 SUM( CASE WHEN... ) VS SUM(BALANCE_AMT) 중에 고민했는데, 그룹화된 상황에 따라서 각자 알아서 해당 열에 관한 계산을 해준다는 맥락으로 생각했을 때 후자로 택했음. 전자로하면 그래서 뭘 더 해준다고? 하는 목적어도 없음\n",
        "    #GROUP BY BALANCE_SHEET이라고 썼었는데..#GROUP BY 1; (별칭 아직 사용X일 수도)\n"
      ],
      "metadata": {
        "id": "agYtZBuvonlt"
      }
    }
  ]
}
