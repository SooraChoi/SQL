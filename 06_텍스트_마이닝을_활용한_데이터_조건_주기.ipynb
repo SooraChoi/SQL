{
  "nbformat": 4,
  "nbformat_minor": 0,
  "metadata": {
    "colab": {
      "provenance": [],
      "authorship_tag": "ABX9TyNHYJdpSXjYPEEV6S0ThyNT",
      "include_colab_link": true
    },
    "kernelspec": {
      "name": "python3",
      "display_name": "Python 3"
    },
    "language_info": {
      "name": "python"
    }
  },
  "cells": [
    {
      "cell_type": "markdown",
      "metadata": {
        "id": "view-in-github",
        "colab_type": "text"
      },
      "source": [
        "<a href=\"https://colab.research.google.com/github/SooraChoi/SQL/blob/main/06_%ED%85%8D%EC%8A%A4%ED%8A%B8_%EB%A7%88%EC%9D%B4%EB%8B%9D%EC%9D%84_%ED%99%9C%EC%9A%A9%ED%95%9C_%EB%8D%B0%EC%9D%B4%ED%84%B0_%EC%A1%B0%EA%B1%B4_%EC%A3%BC%EA%B8%B0.ipynb\" target=\"_parent\"><img src=\"https://colab.research.google.com/assets/colab-badge.svg\" alt=\"Open In Colab\"/></a>"
      ]
    },
    {
      "cell_type": "markdown",
      "source": [
        "- (where) 고를 때, text 특징(공통점) 뭐냐? 에 따라 골라오기\n",
        "- (select) 고른 열을 출력할 때, (1)문자 추가 및 결합해서 (2)공백 없애서 출력하기\n",
        "\n",
        "---\n",
        "#1. 텍스트 마이닝\n",
        "###1) LIKE 연산자를 활용한 필터링\n",
        "    WHERE 열이름 LIKE '찾고싶은문자%';\n",
        "    WHERE 열이름 LIKE '%찾고싶은문자';\n",
        "    WHERE 열이름 LIKE '%찾고싶은문자%';\n",
        "\n",
        "    #시작과 끝 문자만 아는 경우\n",
        "    WHERE 열이름 LIKE '첫글자 % 마지막글자';\n",
        "\n",
        "    #앞/뒤 문자 하나를 모르는 경우\n",
        "    WHERE 열이름 LIKE '찾고싶은문자_';\n",
        "    WHERE 열이름 LIKE '_찾고싶은문자';\n",
        "\n",
        "    #특정 단어를 원하지 않는 경우\n",
        "    WHERE 열이름 NOT LIKE '%원하지않는문자%';\n",
        "- % 는 숫자0 또는 문자들을 대체\n",
        "- _ 는 한 개의 단어를 대체\n",
        "\n",
        "###2) 필드 결합하기\n",
        "    여러 열 결합 : SELECT 열이름1||열이름2 FROM 테이블명;\n",
        "    문자 삽입 :    SELECT 열이름1||'삽입하고픈문자열'||열이름2 FROM 테이블명;\n",
        "###3) 공백 제거하기: TRIM(열이름)\n",
        "    SELECT 열이름1, RTRIM(열이름2) FROM 테이블명;\n",
        "    SELECT 열이름1, LTRIM(열이름2) FROM 테이블명;\n",
        "    SELECT 열이름1, TRIM(열이름2) FROM 테이블명;\n",
        "\n",
        "\n",
        "---\n",
        "문자삽입 할 때, ||뿐 아니라 ''도 잘 넣어주기\n",
        "\n",
        "실습01 테이블 보고 COALESCE로 결측치 처리 잘해주기\n",
        "\n",
        "'%AB%'인데, %'AB'%라고 실수\n"
      ],
      "metadata": {
        "id": "rWyf9C-LW8ut"
      }
    }
  ]
}