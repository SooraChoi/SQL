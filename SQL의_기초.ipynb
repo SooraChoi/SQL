{
  "nbformat": 4,
  "nbformat_minor": 0,
  "metadata": {
    "colab": {
      "provenance": [],
      "authorship_tag": "ABX9TyPz+oB5PNVRkzrwaBFbPzUX",
      "include_colab_link": true
    },
    "kernelspec": {
      "name": "python3",
      "display_name": "Python 3"
    },
    "language_info": {
      "name": "python"
    }
  },
  "cells": [
    {
      "cell_type": "markdown",
      "metadata": {
        "id": "view-in-github",
        "colab_type": "text"
      },
      "source": [
        "<a href=\"https://colab.research.google.com/github/SooraChoi/SQL/blob/main/SQL%EC%9D%98_%EA%B8%B0%EC%B4%88.ipynb\" target=\"_parent\"><img src=\"https://colab.research.google.com/assets/colab-badge.svg\" alt=\"Open In Colab\"/></a>"
      ]
    },
    {
      "cell_type": "markdown",
      "source": [
        "# 01 데이터 가져오기\n",
        "### 지정한 열 가져오기\n",
        "- SELECT 열이름1, 열이름2, 열이름3 FROM 테이블명;\n",
        "\n",
        "### 모든 열 가져오기\n",
        "- SELECT * FROM 테이블명;\n",
        "\n",
        "(테이블에 있는 순서대로 무작위 정렬됨)\n",
        "\n",
        "\n",
        "---\n",
        "\n",
        "\n",
        "# 02 데이터 정렬하기: ORDER BY절\n",
        "###한 가지 열로 데이터 정렬하기\n",
        "- ORDER BY 열이름1;\n",
        "- ORDER BY 열 위치1;\n",
        "\n",
        "###여러 가지 열로 데이터 정렬하기\n",
        "- ex 이름을 순서대로 나열하고, 부서명도 순서대로 나열\n",
        "- ORDER BY 열이름1, 열이름2;\n",
        "- ORDER BY 열 위치1, 열 위치2;\n",
        "- ※select 목록에 선택되지 않은 열로 데이터 정렬하려면, order by 열이름!!\n",
        "\n",
        "### 오름차순으로 데이터 정렬: ASC\n",
        "- 1) ORDER BY 열이름 ASC\n",
        "- 2) ORDER BY 열이름\n",
        "- 3) ORDER BY 열 위치\n",
        "\n",
        "### 내림차순으로 데이터 정렬: DESC\n",
        "- 1) ORDER BY 열이름 DESC\n",
        "\n",
        "  (ex)\n",
        "\n",
        "  SELECT 열이름1, 열이름2\n",
        "\n",
        "  FROM 테이블명\n",
        "\n",
        "  ORDER BY 열이름1 DESC, 열이름2 DESC, 열이름3;\n",
        "\n",
        "\n",
        "\n",
        "---\n",
        "\n",
        "\n",
        "# 03 기타\n",
        "- 소문자 대문자 구분 없음. (테이블에 data로 저장된 값들은 구분됨)\n",
        "- 공백 무시\n",
        "- 여러 줄로 나눠서 문장(쿼리문) 작성 센스"
      ],
      "metadata": {
        "id": "_Pl26gUomOAf"
      }
    }
  ]
}