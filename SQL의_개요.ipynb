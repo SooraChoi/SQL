{
  "nbformat": 4,
  "nbformat_minor": 0,
  "metadata": {
    "colab": {
      "provenance": [],
      "authorship_tag": "ABX9TyOyehLnGbSAXTfwRBud3uY4",
      "include_colab_link": true
    },
    "kernelspec": {
      "name": "python3",
      "display_name": "Python 3"
    },
    "language_info": {
      "name": "python"
    }
  },
  "cells": [
    {
      "cell_type": "markdown",
      "metadata": {
        "id": "view-in-github",
        "colab_type": "text"
      },
      "source": [
        "<a href=\"https://colab.research.google.com/github/SooraChoi/SQL/blob/main/SQL%EC%9D%98_%EA%B0%9C%EC%9A%94.ipynb\" target=\"_parent\"><img src=\"https://colab.research.google.com/assets/colab-badge.svg\" alt=\"Open In Colab\"/></a>"
      ]
    },
    {
      "cell_type": "markdown",
      "source": [
        "\n",
        "#01 Database\n",
        "\n",
        "###Database (DB)\n",
        "\n",
        "- 데이터 집합\n",
        "\n",
        "- 여러 사람 공유되어 사용될 목적\n",
        "\n",
        "###DBMS 의 특성 (DB 관리시스템)\n",
        "\n",
        "- 실시간 접근성 / 계속적인 변화 / 동시 공용 / 내용에 의한 참조\n",
        "\n",
        "###DB 용어\n",
        "\n",
        "- 테이블: 특정한 종류의 데이터를 구조적으로 묶은 것\n",
        "\n",
        "- 스키마: 테이블에 어떤 데이터를, 어떤 형식으로 저장할 것인지 정의한 것\n",
        "\n",
        "- 열: 테이블을 구성하는 각각의 정보\n",
        "\n",
        "- 행: = 레코드. 데이터가 한 줄에 저장된 것\n",
        "\n",
        "- 기본 키: 각 행을 고유하게 하는 열\n",
        "\n",
        "​\n",
        "\n",
        "#02 SQL\n",
        "\n",
        "###SQL \"Structured Query Language\"\n",
        "\n",
        "- 구조화된 질의 언어\n",
        "\n",
        "- (사용자 - DB 시스템) 간의 의사소통 위해 고안된 언어\n",
        "\n",
        "- DB에서 data를 읽거나 쓰고, 수정하기 위한 용도로 사용\n",
        "\n",
        "###SQL 종류\n",
        "\n",
        "- DDL : Definition - 테이블, 스키마 정의\n",
        "\n",
        "- DML : Manipultae - data 검색,수정 등의 처리\n",
        "\n",
        "- DCL : Control - 사용자의 권한 제어\n",
        "\n",
        "​\n",
        "#03 SQL 활용\n",
        "###빅 데이터\n",
        "\n",
        "- 기존 DB 관리 도구\n",
        "\n",
        "- 대량의 정형/비정형 데이터 집합\n",
        "\n",
        "- 이러한 데이터로부터 가치를 추출하고 결과를 분석하는 기\n",
        "\n",
        "###빅 데이터 시대의 SQL 활용\n"
      ],
      "metadata": {
        "id": "xX9m5iiinutv"
      }
    }
  ]
}