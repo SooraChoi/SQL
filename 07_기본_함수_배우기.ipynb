{
  "nbformat": 4,
  "nbformat_minor": 0,
  "metadata": {
    "colab": {
      "provenance": [],
      "authorship_tag": "ABX9TyMxlvri8dABRukV38x68S55",
      "include_colab_link": true
    },
    "kernelspec": {
      "name": "python3",
      "display_name": "Python 3"
    },
    "language_info": {
      "name": "python"
    }
  },
  "cells": [
    {
      "cell_type": "markdown",
      "metadata": {
        "id": "view-in-github",
        "colab_type": "text"
      },
      "source": [
        "<a href=\"https://colab.research.google.com/github/SooraChoi/SQL/blob/main/07_%EA%B8%B0%EB%B3%B8_%ED%95%A8%EC%88%98_%EB%B0%B0%EC%9A%B0%EA%B8%B0.ipynb\" target=\"_parent\"><img src=\"https://colab.research.google.com/assets/colab-badge.svg\" alt=\"Open In Colab\"/></a>"
      ]
    },
    {
      "cell_type": "markdown",
      "source": [
        "- 함수: 변수를 특정한 형태로 변화시키는 것\n",
        "\n",
        "---\n",
        "#1. 문자/숫자/날짜 함수 배워보기\n",
        "###1) 문자 함수\n",
        "    SUBSTR: 문자 값 중, 원하는 길이만큼만 나타낸다\n",
        "    LENGTH: 문자의 길이를 나타낸다\n",
        "    REPLACE: 특정 문자열을 -> 다른 문자열로 대체한다.\n",
        "\n",
        "    #익숙\n",
        "    LOWER, UPPER, INITCAP\n",
        "    RTRIM, LTRIM, TRIM\n",
        "    COALESCE\n",
        "\n",
        "    예제04\n",
        "    이름의 두 번째에서 네 번째에 위치한 글자를 나타내라고 했는데\n",
        "      오답: SUBSTR(NAME, 1, 3) #idx'1' ~ idx'3'이라고 잘못생각\n",
        "      정답: SUBSTR(NAME, 2, 3) #'2'번째부터 '3'개\n",
        "\n",
        "###2) 숫자 함수\n",
        "    ROUND: 소수점의 자릿수를 지정하여 반올림\n",
        "    TRUNC: 해당 소수점 자리에서 잘라낼 때 사용\n",
        "    MOD(M,N): M을 N으로 나눈 나머지\n",
        "\n",
        "    ABS: 절대값\n",
        "    SIGN: 양수->1, 음수->-1, 0->0\n",
        "    SQRT: 제곱근\n",
        "    \n",
        "    COS: 지정한 각도의 COS값\n",
        "    SIN: ~SIN값\n",
        "    PI: ~파이값\n",
        "    TAN: ~TAN값\n",
        "\n",
        "    예제01\n",
        "    소수점 둘째 자리에서 반올림\n",
        "    ROUND(열 이름, 나타내고 싶은 소수점 자릿수)\n",
        "      오답: ROUND(NUMBER, 2) #반올림하는 자리X\n",
        "      정답: ROUND(NUMBER, 1)\n",
        "    \n",
        "    소수점 첫째자리에서 반올림\n",
        "      정답: ROUND(NUMBER, 0)\n",
        "\n",
        "    정수 첫째자리에서 반올림\n",
        "      정답: ROUND(NUMBER,-1) #정수 둘째자리에서 나타내는 것. _ _ . _ _ : (-1 0 . 1 2)\n",
        "      #정수자리 1부터 다시 세야하나 고민했음\n",
        "\n",
        "###3) 날짜 함수\n",
        "    ADD_MONTH: 지정한 날짜에 개월 수를 더한 값을 출력\n",
        "    SYSDATE\n",
        "    LAST_DAY\n",
        "    MONTH_BETWEEN (date_1, date_2)\n",
        "\n",
        "\n",
        "---\n",
        "실습01 문제 특성상 SUBSTR만 사용하면 되는데, 문자열을 대체해야 한다고 생각해서 막혔었음"
      ],
      "metadata": {
        "id": "sPTwnjuM--r4"
      }
    }
  ]
}