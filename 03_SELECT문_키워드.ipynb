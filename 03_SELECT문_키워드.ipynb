{
  "nbformat": 4,
  "nbformat_minor": 0,
  "metadata": {
    "colab": {
      "provenance": [],
      "authorship_tag": "ABX9TyO8j8UBmL8JZYFfIZhsT2Vr",
      "include_colab_link": true
    },
    "kernelspec": {
      "name": "python3",
      "display_name": "Python 3"
    },
    "language_info": {
      "name": "python"
    }
  },
  "cells": [
    {
      "cell_type": "markdown",
      "metadata": {
        "id": "view-in-github",
        "colab_type": "text"
      },
      "source": [
        "<a href=\"https://colab.research.google.com/github/SooraChoi/SQL/blob/main/03_SELECT%EB%AC%B8_%ED%82%A4%EC%9B%8C%EB%93%9C.ipynb\" target=\"_parent\"><img src=\"https://colab.research.google.com/assets/colab-badge.svg\" alt=\"Open In Colab\"/></a>"
      ]
    },
    {
      "cell_type": "code",
      "execution_count": null,
      "metadata": {
        "id": "eCIGxHIDt0du"
      },
      "outputs": [],
      "source": []
    },
    {
      "cell_type": "markdown",
      "source": [
        "#01 SELECT문에서 많이 사용되는 키워드\n",
        "\n",
        "###DISTINCT: 중복 제거하기\n",
        "- SELECT문 안에 DISTINCT 키워드 입력 -> 중복을 제거하고 한 개씩만 볼 수 있음\n",
        "- SELECT DISTINCT 열이름 FROM 테이블명;\n",
        "- SELECT DISTINCT 열이름1, 열이름2 FROM 테이블명;\n",
        "(두 열 묶어서 하나로 보고 중복제거)\n",
        "\n",
        "> DISTINCT 키워드는 집계함수와 하부쿼리에서 많이 사용된다.\n",
        "- SELECT COUNT (POSITION) FROM EMP; : COUNT(POSITION) 7\n",
        "- SELECT COUNT (DISTINCT POSITION) FROM EMP; : COUNT(DISTINCT POSITION) 4\n",
        "\n",
        "\n",
        "###ALIAS (별칭)\n",
        "- 변수 출력할 때, AS나 \"\" 사용 -> 별칭으로 출력할 수 있음\n",
        "- SELECT 열이름 AS new열이름 FROM 테이블명; (한단어로만 가능)\n",
        "- SELECT 열이름 \"new열이름\"  FROM 테이블명;\n",
        "- [AS, \"\", 그대로] 셋이 섞어서 나열 가능\n",
        "- COUNT (DISTINCT ~) 는 COUNT까지 같이 출력된다 -> 별칭으로 바꿔봐"
      ],
      "metadata": {
        "id": "v4jGFyzut3hJ"
      }
    }
  ]
}